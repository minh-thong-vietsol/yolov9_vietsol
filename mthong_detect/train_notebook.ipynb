{
 "cells": [
  {
   "cell_type": "code",
   "execution_count": null,
   "metadata": {},
   "outputs": [],
   "source": [
    "#Detection demo\n",
    "#COCO classes\n",
    "#yolov9 weights\n"
   ]
  },
  {
   "cell_type": "markdown",
   "metadata": {},
   "source": [
    "CPU M1 = 3 FPS\n",
    "GPU T4 = 50 FPS"
   ]
  },
  {
   "cell_type": "code",
   "execution_count": null,
   "metadata": {},
   "outputs": [],
   "source": [
    "#1. Tao cac file txt chua label\n",
    "!python3 python mthong_detect/yolov9/detect.py --source mthong_detect/yolov9/data/video_vinfast/Ngay3-720p.mp4 --save-txt --classes 0 1 2 3 5 7 9\n",
    "#Cac file txt chua label se duoc luu trong thu muc runs/detect/exp/labels\n",
    "!python3 yolov9/detect.py --weights /content/drive/MyDrive/Colab-Notebooks/yolov9/yolov9-c-converted.pt --source /content/drive/MyDrive/Colab-Notebooks/yolov9/Ngay3-720p.mp4 --device 0 --save-txt --project /content/drive/MyDrive/Colab-Notebooks/yolov9 --line-thickness 2"
   ]
  },
  {
   "cell_type": "markdown",
   "metadata": {},
   "source": [
    "Extra note cho detect.py\n",
    "'--weights' , nargs='+', type=str, default=ROOT / 'models/model_weights/yolov9-c-converted.pt', help='model path or triton URL'\n",
    "'--source' , type=str, default=ROOT / 'data/images', help='file/dir/URL/glob/screen/0(webcam)'\n",
    "'--data', type=str, default=ROOT / 'data/coco128.yaml', help='(optional) dataset.yaml path'\n",
    "'--imgsz', '--img', '--img-size', nargs='+', type=int, default=[640], help='inference size h,w'\n",
    "'--conf-thres', type=float, default=0.25, help='confidence threshold'\n",
    "'--iou-thres', type=float, default=0.45, help='NMS IoU threshold'\n",
    "'--max-det', type=int, default=1000, help='maximum detections per image'\n",
    "'--device', default='cpu', help='cuda device, i.e. 0 or 0,1,2,3 or cpu'\n",
    "'--view-img', action='store_true', help='show results'\n",
    "'--save-txt', action='store_true', help='save results to *.txt'\n",
    "'--save-conf', action='store_true', help='save confidences in --save-txt labels'\n",
    "'--save-crop', action='store_true', help='save cropped prediction boxes'\n",
    "'--nosave', action='store_true', help='do not save images/videos'\n",
    "'--classes', nargs='+', type=int, help='filter by class: --classes 0, or --classes 0 2 3'\n",
    "'--agnostic-nms', action='store_true', help='class-agnostic NMS'\n",
    "'--augment', action='store_true', help='augmented inference'\n",
    "'--visualize', action='store_true', help='visualize features'\n",
    "'--update', action='store_true', help='update all models'\n",
    "'--project', default=ROOT / 'runs/detect', help='save results to project/name'\n",
    "'--name', default='exp', help='save results to project/name'\n",
    "'--exist-ok', action='store_true', help='existing project/name ok, do not increment'\n",
    "'--line-thickness', default=2, type=int, help='bounding box thickness (pixels)'\n",
    "'--hide-labels', default=False, action='store_true', help='hide labels'\n",
    "'--hide-conf', default=False, action='store_true', help='hide confidences'\n",
    "'--half', action='store_true', help='use FP16 half-precision inference'\n",
    "'--dnn', action='store_true', help='use OpenCV DNN for ONNX inference'\n",
    "'--vid-stride', type=int, default=1, help='video frame-rate stride'"
   ]
  },
  {
   "cell_type": "code",
   "execution_count": null,
   "metadata": {},
   "outputs": [],
   "source": [
    "#2. Cat cac frame tu video\n",
    "import my_functions as mf\n",
    "mf.extract_frames('/Users/tom/Documents/vietsol/2. Object Detection/ObjectDetection/mthong_detect/yolov9/data/video_vinfast/Ngay3-720p.mp4', '/Users/tom/Documents/vietsol/2. Object Detection/ObjectDetection/mthong_detect/yolov9/data/vinfast_data/Ngay3-720p')"
   ]
  },
  {
   "cell_type": "markdown",
   "metadata": {},
   "source": [
    "Extra note cho train.py\n",
    "'--weights', type=str, default='', help='initial weights path'\n",
    "'--cfg', type=str, default='yolo.yaml', help='model.yaml path'\n",
    "'--data', type=str, default=ROOT / 'data/coco128.yaml', help='dataset.yaml path'\n",
    "'--hyp', type=str, default=ROOT / 'data/hyps/hyp.scratch-low.yaml', help='hyperparameters path'\n",
    "'--epochs', type=int, default=100, help='total training epochs')\n",
    "'--batch-size', type=int, default=16, help='total batch size for all GPUs, -1 for autobatch')\n",
    "'--imgsz', '--img', '--img-size', type=int, default=640, help='train, val image size (pixels)')\n",
    "'--rect', action='store_true', help='rectangular training'\n",
    "'--resume', nargs='?', const=True, default=False, help='resume most recent training')\n",
    "'--nosave', action='store_true', help='only save final checkpoint'\n",
    "'--noval', action='store_true', help='only validate final epoch'\n",
    "'--noautoanchor', action='store_true', help='disable AutoAnchor'\n",
    "'--noplots', action='store_true', help='save no plot files'\n",
    "'--evolve', type=int, nargs='?', const=300, help='evolve hyperparameters for x generations'\n",
    "'--bucket', type=str, default='', help='gsutil bucket'\n",
    "'--cache', type=str, nargs='?', const='ram', help='image --cache ram/disk'\n",
    "'--image-weights', action='store_true', help='use weighted image selection for training'\n",
    "'--device', default='', help='cuda device, i.e. 0 or 0,1,2,3 or cpu'\n",
    "'--multi-scale', action='store_true', help='vary img-size +/- 50%%'\n",
    "'--single-cls', action='store_true', help='train multi-class data as single-class'\n",
    "'--optimizer', type=str, choices=['SGD', 'Adam', 'AdamW', 'LION'], default='SGD', help='optimizer'\n",
    "'--sync-bn', action='store_true', help='use SyncBatchNorm, only available in DDP mode'\n",
    "'--workers', type=int, default=8, help='max dataloader workers (per RANK in DDP mode)'\n",
    "'--project', default=ROOT / 'runs/train', help='save to project/name'\n",
    "'--name', default='exp', help='save to project/name'\n",
    "'--exist-ok', action='store_true', help='existing project/name ok, do not increment'\n",
    "'--quad', action='store_true', help='quad dataloader'\n",
    "'--cos-lr', action='store_true', help='cosine LR scheduler'\n",
    "'--flat-cos-lr', action='store_true', help='flat cosine LR scheduler'\n",
    "'--fixed-lr', action='store_true', help='fixed LR scheduler'\n",
    "'--label-smoothing', type=float, default=0.0, help='Label smoothing epsilon'\n",
    "'--patience', type=int, default=100, help='EarlyStopping patience (epochs without improvement)'\n",
    "'--freeze', nargs='+', type=int, default=[0], help='Freeze layers: backbone=10, first3=0 1 2'\n",
    "'--save-period', type=int, default=-1, help='Save checkpoint every x epochs (disabled if < 1)'\n",
    "'--seed', type=int, default=0, help='Global training seed'\n",
    "'--local_rank', type=int, default=-1, help='Automatic DDP Multi-GPU argument, do not modify'\n",
    "'--min-items', type=int, default=0, help='Experimental'\n",
    "'--close-mosaic', type=int, default=0, help='Experimental'\n",
    "\n",
    "    # Logger arguments\n",
    "'--entity', default=None, help='Entity'\n",
    "'--upload_dataset', nargs='?', const=True, default=False, help='Upload data, \"val\" option'\n",
    "'--bbox_interval', type=int, default=-1, help='Set bounding-box image logging interval'\n",
    "'--artifact_alias', type=str, default='latest', help='Version of dataset artifact to use'"
   ]
  }
 ],
 "metadata": {
  "kernelspec": {
   "display_name": ".venv",
   "language": "python",
   "name": "python3"
  },
  "language_info": {
   "codemirror_mode": {
    "name": "ipython",
    "version": 3
   },
   "file_extension": ".py",
   "mimetype": "text/x-python",
   "name": "python",
   "nbconvert_exporter": "python",
   "pygments_lexer": "ipython3",
   "version": "3.12.2"
  }
 },
 "nbformat": 4,
 "nbformat_minor": 2
}
